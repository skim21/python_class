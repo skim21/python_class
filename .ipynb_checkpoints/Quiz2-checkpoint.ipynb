{
 "cells": [
  {
   "cell_type": "markdown",
   "metadata": {},
   "source": [
    "# Quiz 2\n",
    "\n",
    "## Crawl Crypto Data (XRP,BTC,ETH) from Bithumb. \n"
   ]
  },
  {
   "cell_type": "code",
   "execution_count": null,
   "metadata": {
    "collapsed": true
   },
   "outputs": [],
   "source": [
    "## import libraries from cryptocompy\n",
    "## Go to https://github.com/ttsteiger/cryptocompy for more information\n",
    "from cryptocompy import price"
   ]
  },
  {
   "cell_type": "code",
   "execution_count": null,
   "metadata": {},
   "outputs": [],
   "source": [
    "# TO DO\n",
    "\n",
    "## get historical data of XRP 'ripple'\n",
    "xrp = price.get_historical_data('XRP', 'KRW', 'minute', e='Bithumb',aggregate=1, limit=2000)\n",
    "\n",
    "## get historical data of BTC 'bitcoin'\n",
    "btc = ...\n",
    "\n",
    "## get historical data of ETH 'etherium'\n",
    "eth = ..."
   ]
  },
  {
   "cell_type": "code",
   "execution_count": null,
   "metadata": {},
   "outputs": [],
   "source": [
    "# check if data are obtained.\n",
    "\n",
    "print('ripple data:')\n",
    "print(xrp)\n",
    "print('bitcoin data:')\n",
    "print(xrp)\n",
    "print('etherium data:')\n",
    "print(xrp)"
   ]
  }
 ],
 "metadata": {
  "kernelspec": {
   "display_name": "Python 3",
   "language": "python",
   "name": "python3"
  },
  "language_info": {
   "codemirror_mode": {
    "name": "ipython",
    "version": 3
   },
   "file_extension": ".py",
   "mimetype": "text/x-python",
   "name": "python",
   "nbconvert_exporter": "python",
   "pygments_lexer": "ipython3",
   "version": "3.6.3"
  }
 },
 "nbformat": 4,
 "nbformat_minor": 2
}
