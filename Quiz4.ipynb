{
 "cells": [
  {
   "cell_type": "markdown",
   "metadata": {},
   "source": [
    "# Quiz 4\n",
    "\n",
    "## - crawl Crypto Data (XRP,BTC,ETH) from Bithumb\n",
    "## - use dataframe to make neat data\n",
    "## - save data to file"
   ]
  },
  {
   "cell_type": "code",
   "execution_count": null,
   "metadata": {
    "collapsed": true
   },
   "outputs": [],
   "source": [
    "#import libraries from cryptocompy\n",
    "#Go to https://github.com/ttsteiger/cryptocompy for more information\n",
    "from cryptocompy import price\n",
    "#import pandas library\n",
    "import pandas as pd"
   ]
  },
  {
   "cell_type": "code",
   "execution_count": null,
   "metadata": {
    "collapsed": true
   },
   "outputs": [],
   "source": [
    "# TO DO\n",
    "\n",
    "## get historical data of XRP 'ripple'\n",
    "xrp = price.get_historical_data('XRP', 'KRW', 'minute', e='Bithumb',aggregate=1, limit=2000)\n",
    "\n",
    "## get historical data of BTC 'bitcoin'\n",
    "btc = ...\n",
    "\n",
    "## get historical data of ETH 'etherium'\n",
    "eth = ..."
   ]
  },
  {
   "cell_type": "code",
   "execution_count": null,
   "metadata": {
    "collapsed": true
   },
   "outputs": [],
   "source": [
    "df_XRP = pd.DataFrame(XRP)\n",
    "df_ETH = ...\n",
    "df_BTC = ...\n",
    "df_combined = pd.concat([ETH.time,df_XRP.XRP,df_ETH.ETH,df_BTC.BTC],axis=1)"
   ]
  },
  {
   "cell_type": "code",
   "execution_count": null,
   "metadata": {
    "collapsed": true
   },
   "outputs": [],
   "source": [
    "# check if data are obtained.\n",
    "print(df_combined.head())"
   ]
  },
  {
   "cell_type": "code",
   "execution_count": null,
   "metadata": {
    "collapsed": true
   },
   "outputs": [],
   "source": [
    "# save file using DataFrame.to_csv\n",
    "df_combined.to_csv(...)"
   ]
  }
 ],
 "metadata": {
  "kernelspec": {
   "display_name": "Python 3",
   "language": "python",
   "name": "python3"
  },
  "language_info": {
   "codemirror_mode": {
    "name": "ipython",
    "version": 3
   },
   "file_extension": ".py",
   "mimetype": "text/x-python",
   "name": "python",
   "nbconvert_exporter": "python",
   "pygments_lexer": "ipython3",
   "version": "3.6.3"
  }
 },
 "nbformat": 4,
 "nbformat_minor": 2
}
